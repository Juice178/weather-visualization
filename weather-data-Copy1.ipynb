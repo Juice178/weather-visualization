{
 "cells": [
  {
   "cell_type": "code",
   "execution_count": 1,
   "metadata": {
    "collapsed": false,
    "deletable": true,
    "editable": true
   },
   "outputs": [
    {
     "data": {
      "text/plain": [
       "<pyspark.context.SparkContext at 0x102201898>"
      ]
     },
     "execution_count": 1,
     "metadata": {},
     "output_type": "execute_result"
    }
   ],
   "source": [
    "sc"
   ]
  },
  {
   "cell_type": "code",
   "execution_count": 2,
   "metadata": {
    "collapsed": false,
    "deletable": true,
    "editable": true
   },
   "outputs": [],
   "source": [
    "%matplotlib inline\n",
    "import matplotlib.pyplot as plt\n",
    "import pandas as pd\n",
    "import numpy as np"
   ]
  },
  {
   "cell_type": "code",
   "execution_count": 3,
   "metadata": {
    "collapsed": false,
    "deletable": true,
    "editable": true
   },
   "outputs": [
    {
     "name": "stdout",
     "output_type": "stream",
     "text": [
      "\u001b[34mMyPlayground.playground\u001b[m\u001b[m/  merged_data               weather-data.ipynb\r\n",
      "Untitled.ipynb            month_mean_merged_data    weather-data.pdf\r\n",
      "\u001b[34mdatasets\u001b[m\u001b[m/                 \u001b[34mweather-data\u001b[m\u001b[m/             weather-data.py\r\n",
      "first_merged_data         weather-data-Copy1.ipynb  weather-data_alpha.py\r\n"
     ]
    }
   ],
   "source": [
    "ls"
   ]
  },
  {
   "cell_type": "code",
   "execution_count": 143,
   "metadata": {
    "collapsed": false,
    "deletable": true,
    "editable": true
   },
   "outputs": [
    {
     "name": "stdout",
     "output_type": "stream",
     "text": [
      "cour_Air density.csv          cour_Rain.csv\r\n",
      "cour_Barometer.csv            cour_Soil Moiture 2.csv\r\n",
      "cour_EvapoTranspiration.csv   cour_Soil Moiture.csv\r\n",
      "cour_Inside Dew Point.csv     cour_Soil Temperature.csv\r\n",
      "cour_Inside Heat Index.csv    cour_Soil Temperature2.csv\r\n",
      "cour_Inside Humid.csv         cour_Solar Radiation.csv\r\n",
      "cour_Inside Temperature.csv   cour_UV Radiation.csv\r\n",
      "cour_Outside Dew Point.csv    cour_Wind Chill.csv\r\n",
      "cour_Outside Heat Index.csv   cour_Wind Direction.csv\r\n",
      "cour_Outside Humid.csv        cour_Wind Speed.csv\r\n",
      "cour_Outside Temperature.csv\r\n"
     ]
    }
   ],
   "source": [
    "ls csvfiles/"
   ]
  },
  {
   "cell_type": "code",
   "execution_count": 329,
   "metadata": {
    "collapsed": true,
    "deletable": true,
    "editable": true
   },
   "outputs": [],
   "source": [
    "def cleaning(dFrame):  # data cleaning\n",
    "    dFrame[1] = dFrame[1].str.strip(' \"time:\"')\n",
    "    dFrame[3] = dFrame[3].str.strip(' \"value:\"').str.rstrip(\"}\")\n",
    "    dFrame = dFrame.drop(dFrame.columns[[0, 2]], axis=1)\n",
    "    dFrame = dFrame.rename(columns={1: 'time', 3: 'value'})\n",
    "    return dFrame "
   ]
  },
  {
   "cell_type": "code",
   "execution_count": 330,
   "metadata": {
    "collapsed": false,
    "deletable": true,
    "editable": true
   },
   "outputs": [],
   "source": [
    "rain = pd.read_csv('csvfiles/cour_Rain.csv', header=None, sep=',', quotechar='\"')\n",
    "rain = cleaning(rain)"
   ]
  },
  {
   "cell_type": "code",
   "execution_count": 341,
   "metadata": {
    "collapsed": false,
    "deletable": true,
    "editable": true
   },
   "outputs": [
    {
     "name": "stdout",
     "output_type": "stream",
     "text": [
      "(428564, 2)\n"
     ]
    },
    {
     "data": {
      "text/html": [
       "<div>\n",
       "<table border=\"1\" class=\"dataframe\">\n",
       "  <thead>\n",
       "    <tr style=\"text-align: right;\">\n",
       "      <th></th>\n",
       "      <th>time</th>\n",
       "      <th>rain</th>\n",
       "    </tr>\n",
       "  </thead>\n",
       "  <tbody>\n",
       "    <tr>\n",
       "      <th>0</th>\n",
       "      <td>1373721060</td>\n",
       "      <td>0</td>\n",
       "    </tr>\n",
       "    <tr>\n",
       "      <th>1</th>\n",
       "      <td>1373721120</td>\n",
       "      <td>0</td>\n",
       "    </tr>\n",
       "    <tr>\n",
       "      <th>2</th>\n",
       "      <td>1373721180</td>\n",
       "      <td>0</td>\n",
       "    </tr>\n",
       "    <tr>\n",
       "      <th>3</th>\n",
       "      <td>1373721240</td>\n",
       "      <td>0</td>\n",
       "    </tr>\n",
       "    <tr>\n",
       "      <th>4</th>\n",
       "      <td>1373721300</td>\n",
       "      <td>0</td>\n",
       "    </tr>\n",
       "  </tbody>\n",
       "</table>\n",
       "</div>"
      ],
      "text/plain": [
       "         time rain\n",
       "0  1373721060   0 \n",
       "1  1373721120   0 \n",
       "2  1373721180   0 \n",
       "3  1373721240   0 \n",
       "4  1373721300   0 "
      ]
     },
     "execution_count": 341,
     "metadata": {},
     "output_type": "execute_result"
    }
   ],
   "source": [
    "rain = rain.rename(columns={'value': 'rain'})\n",
    "print(rain.shape)\n",
    "rain.head()"
   ]
  },
  {
   "cell_type": "code",
   "execution_count": 354,
   "metadata": {
    "collapsed": false,
    "deletable": true,
    "editable": true
   },
   "outputs": [],
   "source": [
    "temperature = pd.read_csv('csvfiles/cour_Soil Temperature.csv', header=None)"
   ]
  },
  {
   "cell_type": "code",
   "execution_count": 355,
   "metadata": {
    "collapsed": false,
    "deletable": true,
    "editable": true
   },
   "outputs": [
    {
     "name": "stdout",
     "output_type": "stream",
     "text": [
      "(372103, 2)\n",
      "         time temperature\n",
      "0  1375607700       27.2 \n",
      "1  1375607760       27.2 \n",
      "2  1375607820       27.2 \n",
      "3  1375607880       27.2 \n",
      "4  1375607940       27.2 \n"
     ]
    }
   ],
   "source": [
    "temperature = cleaning(temperature)\n",
    "temperature = temperature.rename(columns={'value': 'temperature'})\n",
    "print(temperature.shape)\n",
    "print(temperature.head())"
   ]
  },
  {
   "cell_type": "code",
   "execution_count": 350,
   "metadata": {
    "collapsed": false,
    "deletable": true,
    "editable": true
   },
   "outputs": [],
   "source": [
    "temperature = temperature.rename(columns={'value': 'temperature'})"
   ]
  },
  {
   "cell_type": "code",
   "execution_count": 351,
   "metadata": {
    "collapsed": false,
    "deletable": true,
    "editable": true
   },
   "outputs": [
    {
     "data": {
      "text/html": [
       "<div>\n",
       "<table border=\"1\" class=\"dataframe\">\n",
       "  <thead>\n",
       "    <tr style=\"text-align: right;\">\n",
       "      <th></th>\n",
       "      <th>time</th>\n",
       "      <th>temperature</th>\n",
       "    </tr>\n",
       "  </thead>\n",
       "  <tbody>\n",
       "    <tr>\n",
       "      <th>372098</th>\n",
       "      <td>1431599340</td>\n",
       "      <td>16.7</td>\n",
       "    </tr>\n",
       "    <tr>\n",
       "      <th>372099</th>\n",
       "      <td>1431599400</td>\n",
       "      <td>16.7</td>\n",
       "    </tr>\n",
       "    <tr>\n",
       "      <th>372100</th>\n",
       "      <td>1431599460</td>\n",
       "      <td>16.7</td>\n",
       "    </tr>\n",
       "    <tr>\n",
       "      <th>372101</th>\n",
       "      <td>1431599520</td>\n",
       "      <td>16.7</td>\n",
       "    </tr>\n",
       "    <tr>\n",
       "      <th>372102</th>\n",
       "      <td>1431599580</td>\n",
       "      <td>16.7</td>\n",
       "    </tr>\n",
       "  </tbody>\n",
       "</table>\n",
       "</div>"
      ],
      "text/plain": [
       "              time temperature\n",
       "372098  1431599340       16.7 \n",
       "372099  1431599400       16.7 \n",
       "372100  1431599460       16.7 \n",
       "372101  1431599520       16.7 \n",
       "372102  1431599580       16.7 "
      ]
     },
     "execution_count": 351,
     "metadata": {},
     "output_type": "execute_result"
    }
   ],
   "source": [
    "temperature.tail()"
   ]
  },
  {
   "cell_type": "code",
   "execution_count": 356,
   "metadata": {
    "collapsed": false,
    "deletable": true,
    "editable": true
   },
   "outputs": [],
   "source": [
    "airDensity = pd.read_csv(\"csvfiles/cour_Air density.csv\", header=None)\n",
    "airDensity = cleaning(airDensity)\n",
    "airDensity = airDensity.rename(columns={'value': 'airDensity'})"
   ]
  },
  {
   "cell_type": "code",
   "execution_count": 357,
   "metadata": {
    "collapsed": false,
    "deletable": true,
    "editable": true
   },
   "outputs": [
    {
     "name": "stdout",
     "output_type": "stream",
     "text": [
      "(428564, 2)\n"
     ]
    },
    {
     "data": {
      "text/html": [
       "<div>\n",
       "<table border=\"1\" class=\"dataframe\">\n",
       "  <thead>\n",
       "    <tr style=\"text-align: right;\">\n",
       "      <th></th>\n",
       "      <th>time</th>\n",
       "      <th>airDensity</th>\n",
       "    </tr>\n",
       "  </thead>\n",
       "  <tbody>\n",
       "    <tr>\n",
       "      <th>0</th>\n",
       "      <td>1373721060</td>\n",
       "      <td>1.1293</td>\n",
       "    </tr>\n",
       "    <tr>\n",
       "      <th>1</th>\n",
       "      <td>1373721120</td>\n",
       "      <td>1.1294</td>\n",
       "    </tr>\n",
       "    <tr>\n",
       "      <th>2</th>\n",
       "      <td>1373721180</td>\n",
       "      <td>1.1294</td>\n",
       "    </tr>\n",
       "    <tr>\n",
       "      <th>3</th>\n",
       "      <td>1373721240</td>\n",
       "      <td>1.1289</td>\n",
       "    </tr>\n",
       "    <tr>\n",
       "      <th>4</th>\n",
       "      <td>1373721300</td>\n",
       "      <td>1.1289</td>\n",
       "    </tr>\n",
       "  </tbody>\n",
       "</table>\n",
       "</div>"
      ],
      "text/plain": [
       "         time airDensity\n",
       "0  1373721060    1.1293 \n",
       "1  1373721120    1.1294 \n",
       "2  1373721180    1.1294 \n",
       "3  1373721240    1.1289 \n",
       "4  1373721300    1.1289 "
      ]
     },
     "execution_count": 357,
     "metadata": {},
     "output_type": "execute_result"
    }
   ],
   "source": [
    "print(airDensity.shape)\n",
    "airDensity.head()"
   ]
  },
  {
   "cell_type": "code",
   "execution_count": 358,
   "metadata": {
    "collapsed": false,
    "deletable": true,
    "editable": true
   },
   "outputs": [
    {
     "data": {
      "text/html": [
       "<div>\n",
       "<table border=\"1\" class=\"dataframe\">\n",
       "  <thead>\n",
       "    <tr style=\"text-align: right;\">\n",
       "      <th></th>\n",
       "      <th>time</th>\n",
       "      <th>airDensity</th>\n",
       "    </tr>\n",
       "  </thead>\n",
       "  <tbody>\n",
       "    <tr>\n",
       "      <th>428559</th>\n",
       "      <td>1431599340</td>\n",
       "      <td>1.189</td>\n",
       "    </tr>\n",
       "    <tr>\n",
       "      <th>428560</th>\n",
       "      <td>1431599400</td>\n",
       "      <td>1.1887</td>\n",
       "    </tr>\n",
       "    <tr>\n",
       "      <th>428561</th>\n",
       "      <td>1431599460</td>\n",
       "      <td>1.1892</td>\n",
       "    </tr>\n",
       "    <tr>\n",
       "      <th>428562</th>\n",
       "      <td>1431599520</td>\n",
       "      <td>1.189</td>\n",
       "    </tr>\n",
       "    <tr>\n",
       "      <th>428563</th>\n",
       "      <td>1431599580</td>\n",
       "      <td>1.189</td>\n",
       "    </tr>\n",
       "  </tbody>\n",
       "</table>\n",
       "</div>"
      ],
      "text/plain": [
       "              time airDensity\n",
       "428559  1431599340     1.189 \n",
       "428560  1431599400    1.1887 \n",
       "428561  1431599460    1.1892 \n",
       "428562  1431599520     1.189 \n",
       "428563  1431599580     1.189 "
      ]
     },
     "execution_count": 358,
     "metadata": {},
     "output_type": "execute_result"
    }
   ],
   "source": [
    "airDensity.tail()"
   ]
  },
  {
   "cell_type": "code",
   "execution_count": 359,
   "metadata": {
    "collapsed": false,
    "deletable": true,
    "editable": true
   },
   "outputs": [
    {
     "data": {
      "text/html": [
       "<div>\n",
       "<table border=\"1\" class=\"dataframe\">\n",
       "  <thead>\n",
       "    <tr style=\"text-align: right;\">\n",
       "      <th></th>\n",
       "      <th>time</th>\n",
       "      <th>temperature</th>\n",
       "    </tr>\n",
       "  </thead>\n",
       "  <tbody>\n",
       "    <tr>\n",
       "      <th>0</th>\n",
       "      <td>1375607700</td>\n",
       "      <td>27.2</td>\n",
       "    </tr>\n",
       "    <tr>\n",
       "      <th>1</th>\n",
       "      <td>1375607760</td>\n",
       "      <td>27.2</td>\n",
       "    </tr>\n",
       "    <tr>\n",
       "      <th>2</th>\n",
       "      <td>1375607820</td>\n",
       "      <td>27.2</td>\n",
       "    </tr>\n",
       "    <tr>\n",
       "      <th>3</th>\n",
       "      <td>1375607880</td>\n",
       "      <td>27.2</td>\n",
       "    </tr>\n",
       "    <tr>\n",
       "      <th>4</th>\n",
       "      <td>1375607940</td>\n",
       "      <td>27.2</td>\n",
       "    </tr>\n",
       "  </tbody>\n",
       "</table>\n",
       "</div>"
      ],
      "text/plain": [
       "         time temperature\n",
       "0  1375607700       27.2 \n",
       "1  1375607760       27.2 \n",
       "2  1375607820       27.2 \n",
       "3  1375607880       27.2 \n",
       "4  1375607940       27.2 "
      ]
     },
     "execution_count": 359,
     "metadata": {},
     "output_type": "execute_result"
    }
   ],
   "source": [
    "\n",
    "temperature.head()"
   ]
  },
  {
   "cell_type": "code",
   "execution_count": 365,
   "metadata": {
    "collapsed": false,
    "deletable": true,
    "editable": true
   },
   "outputs": [],
   "source": [
    "window = pd.read_csv(\"csvfiles/cour_Wind Speed.csv\", header=None)\n",
    "window = cleaning(window)\n",
    "window = window.rename(columns={'value': 'window-speed'})"
   ]
  },
  {
   "cell_type": "code",
   "execution_count": 366,
   "metadata": {
    "collapsed": false,
    "deletable": true,
    "editable": true
   },
   "outputs": [
    {
     "name": "stdout",
     "output_type": "stream",
     "text": [
      "(428564, 2)\n"
     ]
    },
    {
     "data": {
      "text/html": [
       "<div>\n",
       "<table border=\"1\" class=\"dataframe\">\n",
       "  <thead>\n",
       "    <tr style=\"text-align: right;\">\n",
       "      <th></th>\n",
       "      <th>time</th>\n",
       "      <th>window-speed</th>\n",
       "    </tr>\n",
       "  </thead>\n",
       "  <tbody>\n",
       "    <tr>\n",
       "      <th>0</th>\n",
       "      <td>1373721060</td>\n",
       "      <td>0</td>\n",
       "    </tr>\n",
       "    <tr>\n",
       "      <th>1</th>\n",
       "      <td>1373721120</td>\n",
       "      <td>0</td>\n",
       "    </tr>\n",
       "    <tr>\n",
       "      <th>2</th>\n",
       "      <td>1373721180</td>\n",
       "      <td>0.9</td>\n",
       "    </tr>\n",
       "    <tr>\n",
       "      <th>3</th>\n",
       "      <td>1373721240</td>\n",
       "      <td>0</td>\n",
       "    </tr>\n",
       "    <tr>\n",
       "      <th>4</th>\n",
       "      <td>1373721300</td>\n",
       "      <td>0</td>\n",
       "    </tr>\n",
       "  </tbody>\n",
       "</table>\n",
       "</div>"
      ],
      "text/plain": [
       "         time window-speed\n",
       "0  1373721060           0 \n",
       "1  1373721120           0 \n",
       "2  1373721180         0.9 \n",
       "3  1373721240           0 \n",
       "4  1373721300           0 "
      ]
     },
     "execution_count": 366,
     "metadata": {},
     "output_type": "execute_result"
    }
   ],
   "source": [
    "print(window.shape)\n",
    "window.head()"
   ]
  },
  {
   "cell_type": "code",
   "execution_count": 383,
   "metadata": {
    "collapsed": true,
    "deletable": true,
    "editable": true
   },
   "outputs": [],
   "source": [
    "shape_data = { 'temperature': temperature.shape,'window': window.shape, 'airDensity': airDensity.shape, 'rain': rain.shape }\n"
   ]
  },
  {
   "cell_type": "code",
   "execution_count": null,
   "metadata": {
    "collapsed": false,
    "deletable": true,
    "editable": true
   },
   "outputs": [],
   "source": []
  },
  {
   "cell_type": "code",
   "execution_count": 384,
   "metadata": {
    "collapsed": false,
    "deletable": true,
    "editable": true
   },
   "outputs": [],
   "source": [
    "import operator\n",
    "shape_data = sorted(shape_data.items(), key=operator.itemgetter(1))"
   ]
  },
  {
   "cell_type": "code",
   "execution_count": 385,
   "metadata": {
    "collapsed": false,
    "deletable": true,
    "editable": true
   },
   "outputs": [
    {
     "name": "stdout",
     "output_type": "stream",
     "text": [
      "[('temperature', (372103, 2)), ('airDensity', (428564, 2)), ('rain', (428564, 2)), ('window', (428564, 2))]\n",
      "<class 'list'>\n"
     ]
    }
   ],
   "source": [
    "print(shape_data)\n",
    "print(type(shape_data))"
   ]
  },
  {
   "cell_type": "code",
   "execution_count": 386,
   "metadata": {
    "collapsed": false,
    "deletable": true,
    "editable": true
   },
   "outputs": [
    {
     "data": {
      "text/plain": [
       "[0]"
      ]
     },
     "execution_count": 386,
     "metadata": {},
     "output_type": "execute_result"
    }
   ],
   "source": [
    "temperature[temperature['time'] == '1375607700'].index.tolist()"
   ]
  },
  {
   "cell_type": "code",
   "execution_count": 387,
   "metadata": {
    "collapsed": false,
    "deletable": true,
    "editable": true
   },
   "outputs": [
    {
     "data": {
      "text/plain": [
       "[26492]"
      ]
     },
     "execution_count": 387,
     "metadata": {},
     "output_type": "execute_result"
    }
   ],
   "source": [
    "window[window['time']  == '1375607700'].index.tolist() # search for the index matching the first value of temperature data set"
   ]
  },
  {
   "cell_type": "code",
   "execution_count": 388,
   "metadata": {
    "collapsed": false,
    "deletable": true,
    "editable": true
   },
   "outputs": [
    {
     "data": {
      "text/plain": [
       "[26492]"
      ]
     },
     "execution_count": 388,
     "metadata": {},
     "output_type": "execute_result"
    }
   ],
   "source": [
    "airDensity[airDensity['time']  == '1375607700'].index.tolist() # search for the index matching the first value of temperature "
   ]
  },
  {
   "cell_type": "code",
   "execution_count": 389,
   "metadata": {
    "collapsed": false,
    "deletable": true,
    "editable": true
   },
   "outputs": [
    {
     "name": "stdout",
     "output_type": "stream",
     "text": [
      "\u001b[34mcsvfiles\u001b[m\u001b[m/           weather-data.ipynb  weather-data.py\r\n"
     ]
    }
   ],
   "source": [
    "ls"
   ]
  },
  {
   "cell_type": "code",
   "execution_count": 390,
   "metadata": {
    "collapsed": false,
    "deletable": true,
    "editable": true
   },
   "outputs": [],
   "source": [
    "df3 = window.merge(temperature, how='outer')"
   ]
  },
  {
   "cell_type": "code",
   "execution_count": 443,
   "metadata": {
    "collapsed": false,
    "deletable": true,
    "editable": true
   },
   "outputs": [
    {
     "name": "stdout",
     "output_type": "stream",
     "text": [
      "(428564, 3)\n"
     ]
    },
    {
     "data": {
      "text/html": [
       "<div>\n",
       "<table border=\"1\" class=\"dataframe\">\n",
       "  <thead>\n",
       "    <tr style=\"text-align: right;\">\n",
       "      <th></th>\n",
       "      <th>time</th>\n",
       "      <th>window-speed</th>\n",
       "      <th>temperature</th>\n",
       "    </tr>\n",
       "  </thead>\n",
       "  <tbody>\n",
       "    <tr>\n",
       "      <th>0</th>\n",
       "      <td>1373721060</td>\n",
       "      <td>0</td>\n",
       "      <td>NaN</td>\n",
       "    </tr>\n",
       "    <tr>\n",
       "      <th>1</th>\n",
       "      <td>1373721120</td>\n",
       "      <td>0</td>\n",
       "      <td>NaN</td>\n",
       "    </tr>\n",
       "    <tr>\n",
       "      <th>2</th>\n",
       "      <td>1373721180</td>\n",
       "      <td>0.9</td>\n",
       "      <td>NaN</td>\n",
       "    </tr>\n",
       "    <tr>\n",
       "      <th>3</th>\n",
       "      <td>1373721240</td>\n",
       "      <td>0</td>\n",
       "      <td>NaN</td>\n",
       "    </tr>\n",
       "    <tr>\n",
       "      <th>4</th>\n",
       "      <td>1373721300</td>\n",
       "      <td>0</td>\n",
       "      <td>NaN</td>\n",
       "    </tr>\n",
       "  </tbody>\n",
       "</table>\n",
       "</div>"
      ],
      "text/plain": [
       "         time window-speed temperature\n",
       "0  1373721060           0          NaN\n",
       "1  1373721120           0          NaN\n",
       "2  1373721180         0.9          NaN\n",
       "3  1373721240           0          NaN\n",
       "4  1373721300           0          NaN"
      ]
     },
     "execution_count": 443,
     "metadata": {},
     "output_type": "execute_result"
    }
   ],
   "source": [
    "print(df3.shape)\n",
    "df3.head()\n"
   ]
  },
  {
   "cell_type": "code",
   "execution_count": 444,
   "metadata": {
    "collapsed": false,
    "deletable": true,
    "editable": true
   },
   "outputs": [],
   "source": [
    "df4 = df3.merge(airDensity, how='outer')"
   ]
  },
  {
   "cell_type": "code",
   "execution_count": 467,
   "metadata": {
    "collapsed": false,
    "deletable": true,
    "editable": true
   },
   "outputs": [
    {
     "data": {
      "text/html": [
       "<div>\n",
       "<table border=\"1\" class=\"dataframe\">\n",
       "  <thead>\n",
       "    <tr style=\"text-align: right;\">\n",
       "      <th></th>\n",
       "      <th>time</th>\n",
       "      <th>window-speed</th>\n",
       "      <th>temperature</th>\n",
       "      <th>airDensity</th>\n",
       "    </tr>\n",
       "  </thead>\n",
       "  <tbody>\n",
       "    <tr>\n",
       "      <th>0</th>\n",
       "      <td>1373721060</td>\n",
       "      <td>0</td>\n",
       "      <td>NaN</td>\n",
       "      <td>1.1293</td>\n",
       "    </tr>\n",
       "    <tr>\n",
       "      <th>1</th>\n",
       "      <td>1373721120</td>\n",
       "      <td>0</td>\n",
       "      <td>NaN</td>\n",
       "      <td>1.1294</td>\n",
       "    </tr>\n",
       "    <tr>\n",
       "      <th>2</th>\n",
       "      <td>1373721180</td>\n",
       "      <td>0.9</td>\n",
       "      <td>NaN</td>\n",
       "      <td>1.1294</td>\n",
       "    </tr>\n",
       "    <tr>\n",
       "      <th>3</th>\n",
       "      <td>1373721240</td>\n",
       "      <td>0</td>\n",
       "      <td>NaN</td>\n",
       "      <td>1.1289</td>\n",
       "    </tr>\n",
       "    <tr>\n",
       "      <th>4</th>\n",
       "      <td>1373721300</td>\n",
       "      <td>0</td>\n",
       "      <td>NaN</td>\n",
       "      <td>1.1289</td>\n",
       "    </tr>\n",
       "  </tbody>\n",
       "</table>\n",
       "</div>"
      ],
      "text/plain": [
       "         time window-speed temperature airDensity\n",
       "0  1373721060           0          NaN    1.1293 \n",
       "1  1373721120           0          NaN    1.1294 \n",
       "2  1373721180         0.9          NaN    1.1294 \n",
       "3  1373721240           0          NaN    1.1289 \n",
       "4  1373721300           0          NaN    1.1289 "
      ]
     },
     "execution_count": 467,
     "metadata": {},
     "output_type": "execute_result"
    }
   ],
   "source": [
    "df4.head()"
   ]
  },
  {
   "cell_type": "code",
   "execution_count": 468,
   "metadata": {
    "collapsed": false,
    "deletable": true,
    "editable": true
   },
   "outputs": [],
   "source": [
    "df5 = df4.merge(rain, how='outer')"
   ]
  },
  {
   "cell_type": "code",
   "execution_count": 469,
   "metadata": {
    "collapsed": false,
    "deletable": true,
    "editable": true
   },
   "outputs": [
    {
     "data": {
      "text/html": [
       "<div>\n",
       "<table border=\"1\" class=\"dataframe\">\n",
       "  <thead>\n",
       "    <tr style=\"text-align: right;\">\n",
       "      <th></th>\n",
       "      <th>time</th>\n",
       "      <th>window-speed</th>\n",
       "      <th>temperature</th>\n",
       "      <th>airDensity</th>\n",
       "      <th>rain</th>\n",
       "    </tr>\n",
       "  </thead>\n",
       "  <tbody>\n",
       "    <tr>\n",
       "      <th>0</th>\n",
       "      <td>1373721060</td>\n",
       "      <td>0</td>\n",
       "      <td>NaN</td>\n",
       "      <td>1.1293</td>\n",
       "      <td>0</td>\n",
       "    </tr>\n",
       "    <tr>\n",
       "      <th>1</th>\n",
       "      <td>1373721120</td>\n",
       "      <td>0</td>\n",
       "      <td>NaN</td>\n",
       "      <td>1.1294</td>\n",
       "      <td>0</td>\n",
       "    </tr>\n",
       "    <tr>\n",
       "      <th>2</th>\n",
       "      <td>1373721180</td>\n",
       "      <td>0.9</td>\n",
       "      <td>NaN</td>\n",
       "      <td>1.1294</td>\n",
       "      <td>0</td>\n",
       "    </tr>\n",
       "    <tr>\n",
       "      <th>3</th>\n",
       "      <td>1373721240</td>\n",
       "      <td>0</td>\n",
       "      <td>NaN</td>\n",
       "      <td>1.1289</td>\n",
       "      <td>0</td>\n",
       "    </tr>\n",
       "    <tr>\n",
       "      <th>4</th>\n",
       "      <td>1373721300</td>\n",
       "      <td>0</td>\n",
       "      <td>NaN</td>\n",
       "      <td>1.1289</td>\n",
       "      <td>0</td>\n",
       "    </tr>\n",
       "  </tbody>\n",
       "</table>\n",
       "</div>"
      ],
      "text/plain": [
       "         time window-speed temperature airDensity rain\n",
       "0  1373721060           0          NaN    1.1293    0 \n",
       "1  1373721120           0          NaN    1.1294    0 \n",
       "2  1373721180         0.9          NaN    1.1294    0 \n",
       "3  1373721240           0          NaN    1.1289    0 \n",
       "4  1373721300           0          NaN    1.1289    0 "
      ]
     },
     "execution_count": 469,
     "metadata": {},
     "output_type": "execute_result"
    }
   ],
   "source": [
    "df5.head()"
   ]
  },
  {
   "cell_type": "code",
   "execution_count": 483,
   "metadata": {
    "collapsed": false,
    "deletable": true,
    "editable": true
   },
   "outputs": [],
   "source": [
    "df6 = df5.dropna()"
   ]
  },
  {
   "cell_type": "code",
   "execution_count": 484,
   "metadata": {
    "collapsed": false,
    "deletable": true,
    "editable": true
   },
   "outputs": [
    {
     "data": {
      "text/html": [
       "<div>\n",
       "<table border=\"1\" class=\"dataframe\">\n",
       "  <thead>\n",
       "    <tr style=\"text-align: right;\">\n",
       "      <th></th>\n",
       "      <th>time</th>\n",
       "      <th>window-speed</th>\n",
       "      <th>temperature</th>\n",
       "      <th>airDensity</th>\n",
       "      <th>rain</th>\n",
       "    </tr>\n",
       "  </thead>\n",
       "  <tbody>\n",
       "    <tr>\n",
       "      <th>26492</th>\n",
       "      <td>1375607700</td>\n",
       "      <td>1.8</td>\n",
       "      <td>27.2</td>\n",
       "      <td>1.1341</td>\n",
       "      <td>0</td>\n",
       "    </tr>\n",
       "    <tr>\n",
       "      <th>26493</th>\n",
       "      <td>1375607760</td>\n",
       "      <td>0.9</td>\n",
       "      <td>27.2</td>\n",
       "      <td>1.1341</td>\n",
       "      <td>0</td>\n",
       "    </tr>\n",
       "    <tr>\n",
       "      <th>26494</th>\n",
       "      <td>1375607820</td>\n",
       "      <td>4.9</td>\n",
       "      <td>27.2</td>\n",
       "      <td>1.1338</td>\n",
       "      <td>0</td>\n",
       "    </tr>\n",
       "    <tr>\n",
       "      <th>26495</th>\n",
       "      <td>1375607880</td>\n",
       "      <td>0.4</td>\n",
       "      <td>27.2</td>\n",
       "      <td>1.1346</td>\n",
       "      <td>0</td>\n",
       "    </tr>\n",
       "    <tr>\n",
       "      <th>26496</th>\n",
       "      <td>1375607940</td>\n",
       "      <td>0</td>\n",
       "      <td>27.2</td>\n",
       "      <td>1.1342</td>\n",
       "      <td>0</td>\n",
       "    </tr>\n",
       "  </tbody>\n",
       "</table>\n",
       "</div>"
      ],
      "text/plain": [
       "             time window-speed temperature airDensity rain\n",
       "26492  1375607700         1.8        27.2     1.1341    0 \n",
       "26493  1375607760         0.9        27.2     1.1341    0 \n",
       "26494  1375607820         4.9        27.2     1.1338    0 \n",
       "26495  1375607880         0.4        27.2     1.1346    0 \n",
       "26496  1375607940           0        27.2     1.1342    0 "
      ]
     },
     "execution_count": 484,
     "metadata": {},
     "output_type": "execute_result"
    }
   ],
   "source": [
    "df6.head()"
   ]
  },
  {
   "cell_type": "code",
   "execution_count": 485,
   "metadata": {
    "collapsed": false,
    "deletable": true,
    "editable": true
   },
   "outputs": [
    {
     "data": {
      "text/plain": [
       "(372103, 5)"
      ]
     },
     "execution_count": 485,
     "metadata": {},
     "output_type": "execute_result"
    }
   ],
   "source": [
    "df6.shape"
   ]
  },
  {
   "cell_type": "code",
   "execution_count": 486,
   "metadata": {
    "collapsed": false,
    "deletable": true,
    "editable": true
   },
   "outputs": [],
   "source": [
    "df6.to_csv('first_merged_data', index_col=0)\n",
    "            "
   ]
  },
  {
   "cell_type": "code",
   "execution_count": 501,
   "metadata": {
    "collapsed": false,
    "deletable": true,
    "editable": true,
    "scrolled": true
   },
   "outputs": [],
   "source": [
    "df7 = pd.read_csv('first_merged_data', index_col=0)"
   ]
  },
  {
   "cell_type": "code",
   "execution_count": 502,
   "metadata": {
    "collapsed": false,
    "deletable": true,
    "editable": true
   },
   "outputs": [
    {
     "name": "stdout",
     "output_type": "stream",
     "text": [
      "time              int64\n",
      "window-speed    float64\n",
      "temperature     float64\n",
      "airDensity      float64\n",
      "rain            float64\n",
      "dtype: object\n"
     ]
    },
    {
     "data": {
      "text/html": [
       "<div>\n",
       "<table border=\"1\" class=\"dataframe\">\n",
       "  <thead>\n",
       "    <tr style=\"text-align: right;\">\n",
       "      <th></th>\n",
       "      <th>time</th>\n",
       "      <th>window-speed</th>\n",
       "      <th>temperature</th>\n",
       "      <th>airDensity</th>\n",
       "      <th>rain</th>\n",
       "    </tr>\n",
       "  </thead>\n",
       "  <tbody>\n",
       "    <tr>\n",
       "      <th>26492</th>\n",
       "      <td>1375607700</td>\n",
       "      <td>1.8</td>\n",
       "      <td>27.2</td>\n",
       "      <td>1.1341</td>\n",
       "      <td>0.0</td>\n",
       "    </tr>\n",
       "    <tr>\n",
       "      <th>26493</th>\n",
       "      <td>1375607760</td>\n",
       "      <td>0.9</td>\n",
       "      <td>27.2</td>\n",
       "      <td>1.1341</td>\n",
       "      <td>0.0</td>\n",
       "    </tr>\n",
       "    <tr>\n",
       "      <th>26494</th>\n",
       "      <td>1375607820</td>\n",
       "      <td>4.9</td>\n",
       "      <td>27.2</td>\n",
       "      <td>1.1338</td>\n",
       "      <td>0.0</td>\n",
       "    </tr>\n",
       "    <tr>\n",
       "      <th>26495</th>\n",
       "      <td>1375607880</td>\n",
       "      <td>0.4</td>\n",
       "      <td>27.2</td>\n",
       "      <td>1.1346</td>\n",
       "      <td>0.0</td>\n",
       "    </tr>\n",
       "    <tr>\n",
       "      <th>26496</th>\n",
       "      <td>1375607940</td>\n",
       "      <td>0.0</td>\n",
       "      <td>27.2</td>\n",
       "      <td>1.1342</td>\n",
       "      <td>0.0</td>\n",
       "    </tr>\n",
       "  </tbody>\n",
       "</table>\n",
       "</div>"
      ],
      "text/plain": [
       "             time  window-speed  temperature  airDensity  rain\n",
       "26492  1375607700           1.8         27.2      1.1341   0.0\n",
       "26493  1375607760           0.9         27.2      1.1341   0.0\n",
       "26494  1375607820           4.9         27.2      1.1338   0.0\n",
       "26495  1375607880           0.4         27.2      1.1346   0.0\n",
       "26496  1375607940           0.0         27.2      1.1342   0.0"
      ]
     },
     "execution_count": 502,
     "metadata": {},
     "output_type": "execute_result"
    }
   ],
   "source": [
    "print(df7.dtypes)\n",
    "df7.head()"
   ]
  },
  {
   "cell_type": "code",
   "execution_count": 503,
   "metadata": {
    "collapsed": false,
    "deletable": true,
    "editable": true
   },
   "outputs": [],
   "source": [
    "df7['time'] = pd.to_datetime(df7['time'].astype(int), unit='s') # convert unix time to readable time"
   ]
  },
  {
   "cell_type": "code",
   "execution_count": 504,
   "metadata": {
    "collapsed": false,
    "deletable": true,
    "editable": true
   },
   "outputs": [
    {
     "name": "stdout",
     "output_type": "stream",
     "text": [
      "time            datetime64[ns]\n",
      "window-speed           float64\n",
      "temperature            float64\n",
      "airDensity             float64\n",
      "rain                   float64\n",
      "dtype: object\n"
     ]
    },
    {
     "data": {
      "text/html": [
       "<div>\n",
       "<table border=\"1\" class=\"dataframe\">\n",
       "  <thead>\n",
       "    <tr style=\"text-align: right;\">\n",
       "      <th></th>\n",
       "      <th>time</th>\n",
       "      <th>window-speed</th>\n",
       "      <th>temperature</th>\n",
       "      <th>airDensity</th>\n",
       "      <th>rain</th>\n",
       "    </tr>\n",
       "  </thead>\n",
       "  <tbody>\n",
       "    <tr>\n",
       "      <th>428559</th>\n",
       "      <td>2015-05-14 10:29:00</td>\n",
       "      <td>0.4</td>\n",
       "      <td>16.7</td>\n",
       "      <td>1.1890</td>\n",
       "      <td>0.0</td>\n",
       "    </tr>\n",
       "    <tr>\n",
       "      <th>428560</th>\n",
       "      <td>2015-05-14 10:30:00</td>\n",
       "      <td>5.4</td>\n",
       "      <td>16.7</td>\n",
       "      <td>1.1887</td>\n",
       "      <td>0.0</td>\n",
       "    </tr>\n",
       "    <tr>\n",
       "      <th>428561</th>\n",
       "      <td>2015-05-14 10:31:00</td>\n",
       "      <td>3.6</td>\n",
       "      <td>16.7</td>\n",
       "      <td>1.1892</td>\n",
       "      <td>0.0</td>\n",
       "    </tr>\n",
       "    <tr>\n",
       "      <th>428562</th>\n",
       "      <td>2015-05-14 10:32:00</td>\n",
       "      <td>3.6</td>\n",
       "      <td>16.7</td>\n",
       "      <td>1.1890</td>\n",
       "      <td>0.0</td>\n",
       "    </tr>\n",
       "    <tr>\n",
       "      <th>428563</th>\n",
       "      <td>2015-05-14 10:33:00</td>\n",
       "      <td>2.2</td>\n",
       "      <td>16.7</td>\n",
       "      <td>1.1890</td>\n",
       "      <td>0.0</td>\n",
       "    </tr>\n",
       "  </tbody>\n",
       "</table>\n",
       "</div>"
      ],
      "text/plain": [
       "                      time  window-speed  temperature  airDensity  rain\n",
       "428559 2015-05-14 10:29:00           0.4         16.7      1.1890   0.0\n",
       "428560 2015-05-14 10:30:00           5.4         16.7      1.1887   0.0\n",
       "428561 2015-05-14 10:31:00           3.6         16.7      1.1892   0.0\n",
       "428562 2015-05-14 10:32:00           3.6         16.7      1.1890   0.0\n",
       "428563 2015-05-14 10:33:00           2.2         16.7      1.1890   0.0"
      ]
     },
     "execution_count": 504,
     "metadata": {},
     "output_type": "execute_result"
    }
   ],
   "source": [
    "print(df7.dtypes)\n",
    "df7.tail()"
   ]
  },
  {
   "cell_type": "code",
   "execution_count": 505,
   "metadata": {
    "collapsed": false,
    "deletable": true,
    "editable": true
   },
   "outputs": [],
   "source": [
    "df8 = df7.set_index('time').resample('D').mean()"
   ]
  },
  {
   "cell_type": "code",
   "execution_count": 506,
   "metadata": {
    "collapsed": false,
    "deletable": true,
    "editable": true
   },
   "outputs": [
    {
     "data": {
      "text/html": [
       "<div>\n",
       "<table border=\"1\" class=\"dataframe\">\n",
       "  <thead>\n",
       "    <tr style=\"text-align: right;\">\n",
       "      <th></th>\n",
       "      <th>window-speed</th>\n",
       "      <th>temperature</th>\n",
       "      <th>airDensity</th>\n",
       "      <th>rain</th>\n",
       "    </tr>\n",
       "    <tr>\n",
       "      <th>time</th>\n",
       "      <th></th>\n",
       "      <th></th>\n",
       "      <th></th>\n",
       "      <th></th>\n",
       "    </tr>\n",
       "  </thead>\n",
       "  <tbody>\n",
       "    <tr>\n",
       "      <th>2013-08-04</th>\n",
       "      <td>1.012088</td>\n",
       "      <td>27.145055</td>\n",
       "      <td>1.134355</td>\n",
       "      <td>0.0</td>\n",
       "    </tr>\n",
       "    <tr>\n",
       "      <th>2013-08-05</th>\n",
       "      <td>NaN</td>\n",
       "      <td>NaN</td>\n",
       "      <td>NaN</td>\n",
       "      <td>NaN</td>\n",
       "    </tr>\n",
       "    <tr>\n",
       "      <th>2013-08-06</th>\n",
       "      <td>0.062336</td>\n",
       "      <td>24.743257</td>\n",
       "      <td>1.141444</td>\n",
       "      <td>0.0</td>\n",
       "    </tr>\n",
       "    <tr>\n",
       "      <th>2013-08-07</th>\n",
       "      <td>0.273828</td>\n",
       "      <td>27.021483</td>\n",
       "      <td>1.133870</td>\n",
       "      <td>0.0</td>\n",
       "    </tr>\n",
       "    <tr>\n",
       "      <th>2013-08-08</th>\n",
       "      <td>0.252937</td>\n",
       "      <td>26.959091</td>\n",
       "      <td>1.133587</td>\n",
       "      <td>0.0</td>\n",
       "    </tr>\n",
       "  </tbody>\n",
       "</table>\n",
       "</div>"
      ],
      "text/plain": [
       "            window-speed  temperature  airDensity  rain\n",
       "time                                                   \n",
       "2013-08-04      1.012088    27.145055    1.134355   0.0\n",
       "2013-08-05           NaN          NaN         NaN   NaN\n",
       "2013-08-06      0.062336    24.743257    1.141444   0.0\n",
       "2013-08-07      0.273828    27.021483    1.133870   0.0\n",
       "2013-08-08      0.252937    26.959091    1.133587   0.0"
      ]
     },
     "execution_count": 506,
     "metadata": {},
     "output_type": "execute_result"
    }
   ],
   "source": [
    "df8.head()"
   ]
  },
  {
   "cell_type": "code",
   "execution_count": 507,
   "metadata": {
    "collapsed": false,
    "deletable": true,
    "editable": true
   },
   "outputs": [
    {
     "data": {
      "text/plain": [
       "(649, 4)"
      ]
     },
     "execution_count": 507,
     "metadata": {},
     "output_type": "execute_result"
    }
   ],
   "source": [
    "df8.shape"
   ]
  },
  {
   "cell_type": "code",
   "execution_count": 508,
   "metadata": {
    "collapsed": true,
    "deletable": true,
    "editable": true
   },
   "outputs": [],
   "source": [
    "data = df8.dropna()"
   ]
  },
  {
   "cell_type": "code",
   "execution_count": 509,
   "metadata": {
    "collapsed": false,
    "deletable": true,
    "editable": true
   },
   "outputs": [
    {
     "data": {
      "text/plain": [
       "(390, 4)"
      ]
     },
     "execution_count": 509,
     "metadata": {},
     "output_type": "execute_result"
    }
   ],
   "source": [
    "data.shape"
   ]
  },
  {
   "cell_type": "code",
   "execution_count": 510,
   "metadata": {
    "collapsed": true,
    "deletable": true,
    "editable": true
   },
   "outputs": [],
   "source": [
    "data.to_csv('month_mean_merged_data', index_col=0)"
   ]
  },
  {
   "cell_type": "code",
   "execution_count": 4,
   "metadata": {
    "collapsed": false,
    "deletable": true,
    "editable": true
   },
   "outputs": [],
   "source": [
    "data = pd.read_csv('month_mean_merged_data', index_col=0)"
   ]
  },
  {
   "cell_type": "code",
   "execution_count": 5,
   "metadata": {
    "collapsed": false,
    "deletable": true,
    "editable": true
   },
   "outputs": [
    {
     "data": {
      "text/html": [
       "<div>\n",
       "<table border=\"1\" class=\"dataframe\">\n",
       "  <thead>\n",
       "    <tr style=\"text-align: right;\">\n",
       "      <th></th>\n",
       "      <th>window-speed</th>\n",
       "      <th>temperature</th>\n",
       "      <th>airDensity</th>\n",
       "      <th>rain</th>\n",
       "    </tr>\n",
       "    <tr>\n",
       "      <th>time</th>\n",
       "      <th></th>\n",
       "      <th></th>\n",
       "      <th></th>\n",
       "      <th></th>\n",
       "    </tr>\n",
       "  </thead>\n",
       "  <tbody>\n",
       "    <tr>\n",
       "      <th>2013-08-04</th>\n",
       "      <td>1.012088</td>\n",
       "      <td>27.145055</td>\n",
       "      <td>1.134355</td>\n",
       "      <td>0.0</td>\n",
       "    </tr>\n",
       "    <tr>\n",
       "      <th>2013-08-06</th>\n",
       "      <td>0.062336</td>\n",
       "      <td>24.743257</td>\n",
       "      <td>1.141444</td>\n",
       "      <td>0.0</td>\n",
       "    </tr>\n",
       "    <tr>\n",
       "      <th>2013-08-07</th>\n",
       "      <td>0.273828</td>\n",
       "      <td>27.021483</td>\n",
       "      <td>1.133870</td>\n",
       "      <td>0.0</td>\n",
       "    </tr>\n",
       "    <tr>\n",
       "      <th>2013-08-08</th>\n",
       "      <td>0.252937</td>\n",
       "      <td>26.959091</td>\n",
       "      <td>1.133587</td>\n",
       "      <td>0.0</td>\n",
       "    </tr>\n",
       "    <tr>\n",
       "      <th>2013-08-09</th>\n",
       "      <td>0.188719</td>\n",
       "      <td>26.979549</td>\n",
       "      <td>1.132428</td>\n",
       "      <td>0.0</td>\n",
       "    </tr>\n",
       "  </tbody>\n",
       "</table>\n",
       "</div>"
      ],
      "text/plain": [
       "            window-speed  temperature  airDensity  rain\n",
       "time                                                   \n",
       "2013-08-04      1.012088    27.145055    1.134355   0.0\n",
       "2013-08-06      0.062336    24.743257    1.141444   0.0\n",
       "2013-08-07      0.273828    27.021483    1.133870   0.0\n",
       "2013-08-08      0.252937    26.959091    1.133587   0.0\n",
       "2013-08-09      0.188719    26.979549    1.132428   0.0"
      ]
     },
     "execution_count": 5,
     "metadata": {},
     "output_type": "execute_result"
    }
   ],
   "source": [
    "data.head()"
   ]
  },
  {
   "cell_type": "code",
   "execution_count": 6,
   "metadata": {
    "collapsed": false,
    "deletable": true,
    "editable": true
   },
   "outputs": [
    {
     "data": {
      "text/html": [
       "<div>\n",
       "<table border=\"1\" class=\"dataframe\">\n",
       "  <thead>\n",
       "    <tr style=\"text-align: right;\">\n",
       "      <th></th>\n",
       "      <th>window-speed</th>\n",
       "      <th>temperature</th>\n",
       "      <th>airDensity</th>\n",
       "      <th>rain</th>\n",
       "    </tr>\n",
       "  </thead>\n",
       "  <tbody>\n",
       "    <tr>\n",
       "      <th>window-speed</th>\n",
       "      <td>1.000000</td>\n",
       "      <td>-0.082536</td>\n",
       "      <td>-0.017695</td>\n",
       "      <td>-0.125276</td>\n",
       "    </tr>\n",
       "    <tr>\n",
       "      <th>temperature</th>\n",
       "      <td>-0.082536</td>\n",
       "      <td>1.000000</td>\n",
       "      <td>-0.131015</td>\n",
       "      <td>-0.019669</td>\n",
       "    </tr>\n",
       "    <tr>\n",
       "      <th>airDensity</th>\n",
       "      <td>-0.017695</td>\n",
       "      <td>-0.131015</td>\n",
       "      <td>1.000000</td>\n",
       "      <td>0.017807</td>\n",
       "    </tr>\n",
       "    <tr>\n",
       "      <th>rain</th>\n",
       "      <td>-0.125276</td>\n",
       "      <td>-0.019669</td>\n",
       "      <td>0.017807</td>\n",
       "      <td>1.000000</td>\n",
       "    </tr>\n",
       "  </tbody>\n",
       "</table>\n",
       "</div>"
      ],
      "text/plain": [
       "              window-speed  temperature  airDensity      rain\n",
       "window-speed      1.000000    -0.082536   -0.017695 -0.125276\n",
       "temperature      -0.082536     1.000000   -0.131015 -0.019669\n",
       "airDensity       -0.017695    -0.131015    1.000000  0.017807\n",
       "rain             -0.125276    -0.019669    0.017807  1.000000"
      ]
     },
     "execution_count": 6,
     "metadata": {},
     "output_type": "execute_result"
    }
   ],
   "source": [
    "data.corr()"
   ]
  },
  {
   "cell_type": "code",
   "execution_count": 12,
   "metadata": {
    "collapsed": true,
    "deletable": true,
    "editable": true
   },
   "outputs": [],
   "source": [
    "from sklearn.preprocessing import StandardScaler\n",
    "scaler = StandardScaler()\n",
    "scaler.fit(data)\n",
    "data_scaled = scaler.transform(data)"
   ]
  },
  {
   "cell_type": "code",
   "execution_count": 514,
   "metadata": {
    "collapsed": false,
    "deletable": true,
    "editable": true
   },
   "outputs": [
    {
     "data": {
      "text/plain": [
       "window-speed    float64\n",
       "temperature     float64\n",
       "airDensity      float64\n",
       "rain            float64\n",
       "dtype: object"
      ]
     },
     "execution_count": 514,
     "metadata": {},
     "output_type": "execute_result"
    }
   ],
   "source": [
    "data.dtypes"
   ]
  },
  {
   "cell_type": "code",
   "execution_count": 14,
   "metadata": {
    "collapsed": false,
    "deletable": true,
    "editable": true
   },
   "outputs": [
    {
     "data": {
      "text/plain": [
       "array([[-0.74645284,  2.16617878, -0.35150531, -0.32827317],\n",
       "       [-1.05804743,  1.7136485 , -0.2942961 , -0.32827317],\n",
       "       [-0.98866117,  2.14289613, -0.35542106, -0.32827317],\n",
       "       ..., \n",
       "       [-0.6767231 ,  0.09990945,  0.08666811,  0.0038182 ],\n",
       "       [ 0.0110581 ,  0.13144726,  0.06104121, -0.32827317],\n",
       "       [-0.23618042,  0.14815602,  0.05476599, -0.32827317]])"
      ]
     },
     "execution_count": 14,
     "metadata": {},
     "output_type": "execute_result"
    }
   ],
   "source": [
    "data_scaled"
   ]
  },
  {
   "cell_type": "code",
   "execution_count": 19,
   "metadata": {
    "collapsed": false,
    "deletable": true,
    "editable": true
   },
   "outputs": [
    {
     "data": {
      "text/plain": [
       "<matplotlib.legend.Legend at 0x1155bd358>"
      ]
     },
     "execution_count": 19,
     "metadata": {},
     "output_type": "execute_result"
    },
    {
     "data": {
      "image/png": "[encoded data removed]",
      "text/plain": [
       "<matplotlib.figure.Figure at 0x115950a58>"
      ]
     },
     "metadata": {},
     "output_type": "display_data"
    }
   ],
   "source": [
    "ax = data.plot(style=['-', '--', ':', 'o'])\n",
    "ax.lines[0].set_alpha(0.3)\n",
    "ax.set_yscale('log')\n",
    "plt.xticks(rotation=90)\n",
    "ax.legend()"
   ]
  },
  {
   "cell_type": "code",
   "execution_count": 7,
   "metadata": {
    "collapsed": false,
    "deletable": true,
    "editable": true
   },
   "outputs": [
    {
     "data": {
      "text/plain": [
       "<matplotlib.text.Text at 0x11396bfd0>"
      ]
     },
     "execution_count": 7,
     "metadata": {},
     "output_type": "execute_result"
    },
    {
     "data": {
      "image/png": "[encoded data removed]",
      "text/plain": [
       "<matplotlib.figure.Figure at 0x1139596d8>"
      ]
     },
     "metadata": {},
     "output_type": "display_data"
    }
   ],
   "source": [
    "data['window-speed'].plot()\n",
    "plt.xticks(rotation=90)\n",
    "plt.title('window speed')"
   ]
  },
  {
   "cell_type": "code",
   "execution_count": 249,
   "metadata": {
    "collapsed": true,
    "deletable": true,
    "editable": true
   },
   "outputs": [],
   "source": [
    "ff = np.array(f)"
   ]
  },
  {
   "cell_type": "code",
   "execution_count": 10,
   "metadata": {
    "collapsed": false,
    "deletable": true,
    "editable": true
   },
   "outputs": [
    {
     "data": {
      "text/plain": [
       "array([ -6.88863375e-04,  -3.00601202e-04,   0.00000000e+00,\n",
       "         1.77935943e-03,   1.17004680e-02,   1.22605364e-02,\n",
       "         1.60030628e-02,   1.61764706e-02,   1.62726008e-02,\n",
       "         1.65472779e-02,   1.89283229e-02,   2.11048159e-02,\n",
       "         3.00350877e-02,   3.04437564e-02,   3.20055905e-02,\n",
       "         3.41974078e-02,   3.51502446e-02,   3.57142857e-02,\n",
       "         4.35236769e-02,   4.58193980e-02,   4.64075383e-02,\n",
       "         4.70899471e-02,   5.45897644e-02,   5.50239234e-02,\n",
       "         5.63535912e-02,   5.83407672e-02,   5.89198036e-02,\n",
       "         6.46443515e-02,   6.73602081e-02,   7.59414226e-02,\n",
       "         7.70270270e-02,   7.70789658e-02,   7.86062718e-02,\n",
       "         8.41517857e-02,   9.03985507e-02,   9.57308249e-02,\n",
       "         1.05466013e-01,   1.14181818e-01,   1.24133811e-01,\n",
       "         1.27443881e-01,   1.32075472e-01,   1.32996324e-01,\n",
       "         1.34705228e-01,   1.35849057e-01,   1.37076796e-01,\n",
       "         1.39578631e-01,   1.46205962e-01,   1.48735955e-01,\n",
       "         1.53872054e-01,   1.59310345e-01,   1.76901605e-01,\n",
       "         1.77009085e-01,   1.88378378e-01,   1.90298507e-01,\n",
       "         1.91370912e-01,   2.11309524e-01,   2.12564103e-01,\n",
       "         2.13290323e-01,   2.24858357e-01,   2.44061758e-01,\n",
       "         2.54986150e-01,   2.56843575e-01,   2.61184211e-01,\n",
       "         2.73310105e-01,   2.87931034e-01,   3.06657323e-01,\n",
       "         3.10725552e-01,   3.21276596e-01,   3.31680672e-01,\n",
       "         3.33333333e-01,   3.41283525e-01,   3.52016461e-01,\n",
       "         3.54393939e-01,   3.54788961e-01,   3.68832891e-01,\n",
       "         3.76696991e-01,   3.90619765e-01,   3.91428571e-01,\n",
       "         3.98765432e-01,   4.01463415e-01,   4.02937063e-01,\n",
       "         4.16957432e-01,   4.77373974e-01,   4.89605157e-01,\n",
       "         4.90864714e-01,   5.52192982e-01,   5.96571029e-01,\n",
       "         6.24042553e-01,   6.36549469e-01,   6.53292960e-01,\n",
       "         6.58021613e-01,   6.70194647e-01,   6.79804333e-01,\n",
       "         6.99696970e-01,   7.13014706e-01,   7.21548117e-01,\n",
       "         7.42921013e-01,   7.85726073e-01,   8.36818851e-01,\n",
       "         8.44603288e-01,   9.00000000e-01,   9.95823483e-01,\n",
       "         1.00546601e+00,   1.02422535e+00,   1.03696028e+00,\n",
       "         1.04044527e+00,   1.09198856e+00,   1.18064904e+00,\n",
       "         1.18180751e+00,   1.32432712e+00,   1.48878282e+00,\n",
       "         1.53620690e+00,   1.59394366e+00,   1.75178697e+00,\n",
       "         1.76139053e+00,   1.83492485e+00,   1.93505948e+00,\n",
       "         1.95698758e+00,   2.07079971e+00,   2.25800305e+00,\n",
       "         2.87977528e+00,   2.96113990e+00,   3.04956332e+00,\n",
       "         4.55000000e+00,   6.16609547e+00])"
      ]
     },
     "execution_count": 10,
     "metadata": {},
     "output_type": "execute_result"
    }
   ],
   "source": [
    "np.unique(data['rain'].values)"
   ]
  },
  {
   "cell_type": "code",
   "execution_count": 250,
   "metadata": {
    "collapsed": false,
    "deletable": true,
    "editable": true
   },
   "outputs": [
    {
     "data": {
      "text/plain": [
       "array(['1375607700', '1375607760', '1375607820', '1375607880', '1375607940'], dtype=object)"
      ]
     },
     "execution_count": 250,
     "metadata": {},
     "output_type": "execute_result"
    }
   ],
   "source": [
    "ff"
   ]
  },
  {
   "cell_type": "code",
   "execution_count": 11,
   "metadata": {
    "collapsed": false,
    "deletable": true,
    "editable": true
   },
   "outputs": [
    {
     "data": {
      "text/plain": [
       "time\n",
       "2013-08-04    0.000000\n",
       "2013-08-06    0.000000\n",
       "2013-08-07    0.000000\n",
       "2013-08-08    0.000000\n",
       "2013-08-09    0.000000\n",
       "2013-08-10    0.000000\n",
       "2013-08-11    0.000000\n",
       "2013-08-12    0.000000\n",
       "2013-08-15    0.000000\n",
       "2013-08-19    0.000000\n",
       "2013-08-20    0.000000\n",
       "2013-08-21    0.000000\n",
       "2013-08-22    0.000000\n",
       "2013-08-23    0.000000\n",
       "2013-08-24    0.000000\n",
       "2013-08-25    0.000000\n",
       "2013-08-26    0.000000\n",
       "2013-08-27    1.834925\n",
       "2013-08-28    0.742921\n",
       "2013-08-29    0.021105\n",
       "2013-08-30    0.398765\n",
       "2013-09-01    0.624043\n",
       "2013-09-02    0.310726\n",
       "2013-09-03    0.000000\n",
       "2013-09-04    0.000000\n",
       "2013-09-05    0.254986\n",
       "2013-09-07    0.000000\n",
       "2013-09-09    0.055024\n",
       "2013-09-10    0.000000\n",
       "2013-09-13    0.058341\n",
       "                ...   \n",
       "2015-04-09    0.000000\n",
       "2015-04-10    0.244062\n",
       "2015-04-11    0.000000\n",
       "2015-04-12    0.000000\n",
       "2015-04-13    1.956988\n",
       "2015-04-14    0.000000\n",
       "2015-04-15    0.001779\n",
       "2015-04-16    0.000000\n",
       "2015-04-17    0.000000\n",
       "2015-04-18    0.391429\n",
       "2015-04-19    0.000000\n",
       "2015-04-22    0.000000\n",
       "2015-04-23    0.333333\n",
       "2015-04-24    0.000000\n",
       "2015-04-25    0.000000\n",
       "2015-04-27    0.000000\n",
       "2015-04-28    0.000000\n",
       "2015-04-30    0.000000\n",
       "2015-05-02    0.000000\n",
       "2015-05-03    0.000000\n",
       "2015-05-04    0.000000\n",
       "2015-05-05    0.000000\n",
       "2015-05-06    0.900000\n",
       "2015-05-08    4.550000\n",
       "2015-05-09    0.000000\n",
       "2015-05-10    0.552193\n",
       "2015-05-11    0.000000\n",
       "2015-05-12    0.190299\n",
       "2015-05-13    0.000000\n",
       "2015-05-14    0.000000\n",
       "Name: rain, dtype: float64"
      ]
     },
     "execution_count": 11,
     "metadata": {},
     "output_type": "execute_result"
    }
   ],
   "source": [
    "data['rain']"
   ]
  },
  {
   "cell_type": "code",
   "execution_count": 251,
   "metadata": {
    "collapsed": false,
    "deletable": true,
    "editable": true
   },
   "outputs": [
    {
     "data": {
      "text/plain": [
       "True"
      ]
     },
     "execution_count": 251,
     "metadata": {},
     "output_type": "execute_result"
    }
   ],
   "source": [
    "'1375607700' in ff"
   ]
  },
  {
   "cell_type": "code",
   "execution_count": 277,
   "metadata": {
    "collapsed": false,
    "deletable": true,
    "editable": true
   },
   "outputs": [
    {
     "data": {
      "text/html": [
       "<div>\n",
       "<table border=\"1\" class=\"dataframe\">\n",
       "  <thead>\n",
       "    <tr style=\"text-align: right;\">\n",
       "      <th></th>\n",
       "      <th>time</th>\n",
       "      <th>value</th>\n",
       "    </tr>\n",
       "  </thead>\n",
       "  <tbody>\n",
       "    <tr>\n",
       "      <th>0</th>\n",
       "      <td>1373721060</td>\n",
       "      <td>0</td>\n",
       "    </tr>\n",
       "    <tr>\n",
       "      <th>1</th>\n",
       "      <td>1373721120</td>\n",
       "      <td>0</td>\n",
       "    </tr>\n",
       "    <tr>\n",
       "      <th>2</th>\n",
       "      <td>1373721180</td>\n",
       "      <td>0.9</td>\n",
       "    </tr>\n",
       "    <tr>\n",
       "      <th>3</th>\n",
       "      <td>1373721240</td>\n",
       "      <td>0</td>\n",
       "    </tr>\n",
       "    <tr>\n",
       "      <th>4</th>\n",
       "      <td>1373721300</td>\n",
       "      <td>0</td>\n",
       "    </tr>\n",
       "  </tbody>\n",
       "</table>\n",
       "</div>"
      ],
      "text/plain": [
       "         time value\n",
       "0  1373721060    0 \n",
       "1  1373721120    0 \n",
       "2  1373721180  0.9 \n",
       "3  1373721240    0 \n",
       "4  1373721300    0 "
      ]
     },
     "execution_count": 277,
     "metadata": {},
     "output_type": "execute_result"
    }
   ],
   "source": [
    "window.head()"
   ]
  },
  {
   "cell_type": "code",
   "execution_count": 282,
   "metadata": {
    "collapsed": false,
    "deletable": true,
    "editable": true
   },
   "outputs": [
    {
     "data": {
      "text/html": [
       "<div>\n",
       "<table border=\"1\" class=\"dataframe\">\n",
       "  <thead>\n",
       "    <tr style=\"text-align: right;\">\n",
       "      <th></th>\n",
       "      <th>time</th>\n",
       "      <th>value</th>\n",
       "    </tr>\n",
       "  </thead>\n",
       "  <tbody>\n",
       "    <tr>\n",
       "      <th>2</th>\n",
       "      <td>1373721180</td>\n",
       "      <td>0.9</td>\n",
       "    </tr>\n",
       "    <tr>\n",
       "      <th>3</th>\n",
       "      <td>1373721240</td>\n",
       "      <td>0</td>\n",
       "    </tr>\n",
       "  </tbody>\n",
       "</table>\n",
       "</div>"
      ],
      "text/plain": [
       "         time value\n",
       "2  1373721180  0.9 \n",
       "3  1373721240    0 "
      ]
     },
     "execution_count": 282,
     "metadata": {},
     "output_type": "execute_result"
    }
   ],
   "source": [
    "window.iloc[[2,3]]"
   ]
  },
  {
   "cell_type": "code",
   "execution_count": 284,
   "metadata": {
    "collapsed": false,
    "deletable": true,
    "editable": true
   },
   "outputs": [
    {
     "data": {
      "text/html": [
       "<div>\n",
       "<table border=\"1\" class=\"dataframe\">\n",
       "  <thead>\n",
       "    <tr style=\"text-align: right;\">\n",
       "      <th></th>\n",
       "      <th>time</th>\n",
       "      <th>value</th>\n",
       "    </tr>\n",
       "  </thead>\n",
       "  <tbody>\n",
       "    <tr>\n",
       "      <th>0</th>\n",
       "      <td>1373721060</td>\n",
       "      <td>0</td>\n",
       "    </tr>\n",
       "    <tr>\n",
       "      <th>1</th>\n",
       "      <td>1373721120</td>\n",
       "      <td>0</td>\n",
       "    </tr>\n",
       "    <tr>\n",
       "      <th>2</th>\n",
       "      <td>1373721180</td>\n",
       "      <td>0.9</td>\n",
       "    </tr>\n",
       "    <tr>\n",
       "      <th>3</th>\n",
       "      <td>1373721240</td>\n",
       "      <td>0</td>\n",
       "    </tr>\n",
       "    <tr>\n",
       "      <th>4</th>\n",
       "      <td>1373721300</td>\n",
       "      <td>0</td>\n",
       "    </tr>\n",
       "    <tr>\n",
       "      <th>5</th>\n",
       "      <td>1373721360</td>\n",
       "      <td>0</td>\n",
       "    </tr>\n",
       "    <tr>\n",
       "      <th>6</th>\n",
       "      <td>1373721420</td>\n",
       "      <td>0.4</td>\n",
       "    </tr>\n",
       "    <tr>\n",
       "      <th>7</th>\n",
       "      <td>1373721480</td>\n",
       "      <td>0</td>\n",
       "    </tr>\n",
       "  </tbody>\n",
       "</table>\n",
       "</div>"
      ],
      "text/plain": [
       "         time value\n",
       "0  1373721060    0 \n",
       "1  1373721120    0 \n",
       "2  1373721180  0.9 \n",
       "3  1373721240    0 \n",
       "4  1373721300    0 \n",
       "5  1373721360    0 \n",
       "6  1373721420  0.4 \n",
       "7  1373721480    0 "
      ]
     },
     "execution_count": 284,
     "metadata": {},
     "output_type": "execute_result"
    }
   ],
   "source": [
    "window.iloc[[0, 1, 2, 3, 4, 5, 6, 7]]"
   ]
  },
  {
   "cell_type": "code",
   "execution_count": 289,
   "metadata": {
    "collapsed": false,
    "deletable": true,
    "editable": true
   },
   "outputs": [
    {
     "name": "stdout",
     "output_type": "stream",
     "text": [
      "<class 'list'>\n"
     ]
    }
   ],
   "source": [
    "print(type([0, 1, 2, 3, 4, 5, 6, 7]))"
   ]
  },
  {
   "cell_type": "code",
   "execution_count": 290,
   "metadata": {
    "collapsed": true,
    "deletable": true,
    "editable": true
   },
   "outputs": [],
   "source": [
    "ll = [0, 1, 2, 3, 4, 5, 6, 7]"
   ]
  },
  {
   "cell_type": "code",
   "execution_count": 291,
   "metadata": {
    "collapsed": false,
    "deletable": true,
    "editable": true
   },
   "outputs": [
    {
     "data": {
      "text/html": [
       "<div>\n",
       "<table border=\"1\" class=\"dataframe\">\n",
       "  <thead>\n",
       "    <tr style=\"text-align: right;\">\n",
       "      <th></th>\n",
       "      <th>time</th>\n",
       "      <th>value</th>\n",
       "    </tr>\n",
       "  </thead>\n",
       "  <tbody>\n",
       "    <tr>\n",
       "      <th>0</th>\n",
       "      <td>1373721060</td>\n",
       "      <td>0</td>\n",
       "    </tr>\n",
       "    <tr>\n",
       "      <th>1</th>\n",
       "      <td>1373721120</td>\n",
       "      <td>0</td>\n",
       "    </tr>\n",
       "    <tr>\n",
       "      <th>2</th>\n",
       "      <td>1373721180</td>\n",
       "      <td>0.9</td>\n",
       "    </tr>\n",
       "    <tr>\n",
       "      <th>3</th>\n",
       "      <td>1373721240</td>\n",
       "      <td>0</td>\n",
       "    </tr>\n",
       "    <tr>\n",
       "      <th>4</th>\n",
       "      <td>1373721300</td>\n",
       "      <td>0</td>\n",
       "    </tr>\n",
       "    <tr>\n",
       "      <th>5</th>\n",
       "      <td>1373721360</td>\n",
       "      <td>0</td>\n",
       "    </tr>\n",
       "    <tr>\n",
       "      <th>6</th>\n",
       "      <td>1373721420</td>\n",
       "      <td>0.4</td>\n",
       "    </tr>\n",
       "    <tr>\n",
       "      <th>7</th>\n",
       "      <td>1373721480</td>\n",
       "      <td>0</td>\n",
       "    </tr>\n",
       "  </tbody>\n",
       "</table>\n",
       "</div>"
      ],
      "text/plain": [
       "         time value\n",
       "0  1373721060    0 \n",
       "1  1373721120    0 \n",
       "2  1373721180  0.9 \n",
       "3  1373721240    0 \n",
       "4  1373721300    0 \n",
       "5  1373721360    0 \n",
       "6  1373721420  0.4 \n",
       "7  1373721480    0 "
      ]
     },
     "execution_count": 291,
     "metadata": {},
     "output_type": "execute_result"
    }
   ],
   "source": [
    "window.iloc[ll]"
   ]
  },
  {
   "cell_type": "code",
   "execution_count": null,
   "metadata": {
    "collapsed": true,
    "deletable": true,
    "editable": true
   },
   "outputs": [],
   "source": []
  }
 ],
 "metadata": {
  "anaconda-cloud": {},
  "kernelspec": {
   "display_name": "Python 2",
   "language": "python",
   "name": "python2"
  },
  "language_info": {
   "codemirror_mode": {
    "name": "ipython",
    "version": 2
   },
   "file_extension": ".py",
   "mimetype": "text/x-python",
   "name": "python",
   "nbconvert_exporter": "python",
   "pygments_lexer": "ipython2",
   "version": "2.7.13"
  }
 },
 "nbformat": 4,
 "nbformat_minor": 1
}
